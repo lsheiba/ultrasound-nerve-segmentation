{
 "cells": [
  {
   "cell_type": "code",
   "execution_count": null,
   "metadata": {
    "collapsed": true
   },
   "outputs": [],
   "source": [
    "import matplotlib.pyplot as plt\n",
    "from matplotlib.pyplot import imshow\n",
    "import numpy as np\n",
    "from PIL import Image\n",
    "import os"
   ]
  },
  {
   "cell_type": "code",
   "execution_count": null,
   "metadata": {},
   "outputs": [],
   "source": [
    "%matplotlib inline\n",
    "f, axarr = plt.subplots(2,2)\n",
    "pil_1 = Image.open(os.environ['DATA_DIR']+os.sep+'test/1.tif', 'r')\n",
    "pil_2 = Image.open(os.environ['TRAINING_DIR']+os.sep+'1_pred.png', 'r')\n",
    "axarr[0,0].imshow(np.asarray(pil_1))\n",
    "axarr[0,1].imshow(np.asarray(pil_2))\n",
    "pil_3 = Image.open(os.environ['DATA_DIR']+os.sep+'test/9.tif', 'r')\n",
    "pil_4 = Image.open(os.environ['TRAINING_DIR']+os.sep+'9_pred.png', 'r')\n",
    "axarr[1,0].imshow(np.asarray(pil_1))\n",
    "axarr[1,1].imshow(np.asarray(pil_2))"
   ]
  },
  {
   "cell_type": "code",
   "execution_count": null,
   "metadata": {},
   "outputs": [],
   "source": [
    "pil_3 = Image.open(os.environ['DATA_DIR']+os.sep+'test/2.tif', 'r')\n",
    "pil_4 = Image.open(os.environ['TRAINING_DIR']+os.sep+'2_pred.png', 'r')\n",
    "axarr[2].imshow(np.asarray(pil_1))\n",
    "axarr[3].imshow(np.asarray(pil_2))"
   ]
  },
  {
   "cell_type": "code",
   "execution_count": null,
   "metadata": {
    "collapsed": true
   },
   "outputs": [],
   "source": []
  },
  {
   "cell_type": "code",
   "execution_count": null,
   "metadata": {
    "collapsed": true
   },
   "outputs": [],
   "source": []
  }
 ],
 "metadata": {
  "kernelspec": {
   "display_name": "Python 2",
   "language": "python",
   "name": "python2"
  }
 },
 "nbformat": 4,
 "nbformat_minor": 2
}
